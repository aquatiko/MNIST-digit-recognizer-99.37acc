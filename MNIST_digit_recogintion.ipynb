{
 "cells": [
  {
   "cell_type": "code",
   "execution_count": 1,
   "metadata": {
    "colab": {
     "autoexec": {
      "startup": false,
      "wait_interval": 0
     },
     "base_uri": "https://localhost:8080/",
     "height": 34
    },
    "colab_type": "code",
    "executionInfo": {
     "elapsed": 11151,
     "status": "ok",
     "timestamp": 1531242160627,
     "user": {
      "displayName": "rohit singh",
      "photoUrl": "//lh4.googleusercontent.com/-_sGsyClrnAw/AAAAAAAAAAI/AAAAAAAACuo/yIyIvwGGOqw/s50-c-k-no/photo.jpg",
      "userId": "106822653284104721462"
     },
     "user_tz": -330
    },
    "id": "hGlHTjnpsOsw",
    "outputId": "ba478459-71e0-47e1-deab-c69e129ab5b7"
   },
   "outputs": [
    {
     "name": "stderr",
     "output_type": "stream",
     "text": [
      "Using TensorFlow backend.\n"
     ]
    }
   ],
   "source": [
    "from keras.datasets import mnist\n",
    "from keras.layers.core import Dense,Dropout\n",
    "from keras.models import Sequential\n",
    "from keras.callbacks import ModelCheckpoint\n",
    "from keras.utils import np_utils\n",
    "from keras.optimizers import Adam,SGD\n",
    "import numpy as np"
   ]
  },
  {
   "cell_type": "code",
   "execution_count": 2,
   "metadata": {
    "colab": {
     "autoexec": {
      "startup": false,
      "wait_interval": 0
     },
     "base_uri": "https://localhost:8080/",
     "height": 67
    },
    "colab_type": "code",
    "executionInfo": {
     "elapsed": 5690,
     "status": "ok",
     "timestamp": 1531242167886,
     "user": {
      "displayName": "rohit singh",
      "photoUrl": "//lh4.googleusercontent.com/-_sGsyClrnAw/AAAAAAAAAAI/AAAAAAAACuo/yIyIvwGGOqw/s50-c-k-no/photo.jpg",
      "userId": "106822653284104721462"
     },
     "user_tz": -330
    },
    "id": "FHw356IGs8LS",
    "outputId": "1284d879-356e-43aa-cb3f-e893b2486401"
   },
   "outputs": [
    {
     "name": "stdout",
     "output_type": "stream",
     "text": [
      "Downloading data from https://s3.amazonaws.com/img-datasets/mnist.npz\n",
      "11493376/11490434 [==============================] - 4s 0us/step\n",
      "(60000, 784) (10000, 784) (60000, 10) (10000, 10)\n"
     ]
    }
   ],
   "source": [
    "(Xtrain, ytrain), (Xtest, ytest) = mnist.load_data()          #loading data\n",
    "Xtrain = Xtrain.reshape(60000, 784).astype(\"float32\") / 255    #normalization\n",
    "Xtest = Xtest.reshape(10000, 784).astype(\"float32\") / 255\n",
    "Ytrain = np_utils.to_categorical(ytrain, 10)\n",
    "Ytest = np_utils.to_categorical(ytest, 10)\n",
    "print(Xtrain.shape, Xtest.shape, Ytrain.shape, Ytest.shape)"
   ]
  },
  {
   "cell_type": "code",
   "execution_count": 0,
   "metadata": {
    "colab": {
     "autoexec": {
      "startup": false,
      "wait_interval": 0
     }
    },
    "colab_type": "code",
    "id": "A6H1PdAhvknw"
   },
   "outputs": [],
   "source": [
    "# network and training\n",
    "NB_EPOCH = 70\n",
    "BATCH_SIZE = 128\n",
    "VERBOSE = 1\n",
    "NB_CLASSES = 10 # number of outputs = number of digits\n",
    "OPTIMIZER = SGD() \n",
    "N_HIDDEN = 128\n",
    "VALIDATION_SPLIT=0.2 "
   ]
  },
  {
   "cell_type": "code",
   "execution_count": 92,
   "metadata": {
    "colab": {
     "autoexec": {
      "startup": false,
      "wait_interval": 0
     },
     "base_uri": "https://localhost:8080/",
     "height": 50
    },
    "colab_type": "code",
    "executionInfo": {
     "elapsed": 1029,
     "status": "ok",
     "timestamp": 1531248138958,
     "user": {
      "displayName": "rohit singh",
      "photoUrl": "//lh4.googleusercontent.com/-_sGsyClrnAw/AAAAAAAAAAI/AAAAAAAACuo/yIyIvwGGOqw/s50-c-k-no/photo.jpg",
      "userId": "106822653284104721462"
     },
     "user_tz": -330
    },
    "id": "conZzqsdA41p",
    "outputId": "3b85d157-eba0-4d61-a4a0-3d321f18d0e0"
   },
   "outputs": [
    {
     "name": "stderr",
     "output_type": "stream",
     "text": [
      "/usr/local/lib/python3.6/dist-packages/keras/callbacks.py:928: UserWarning: `epsilon` argument is deprecated and will be removed, use `min_delta` insted.\n",
      "  warnings.warn('`epsilon` argument is deprecated and '\n"
     ]
    }
   ],
   "source": [
    "filepath=\"weights.hdf5\"\n",
    "from keras.callbacks import ModelCheckpoint,ReduceLROnPlateau\n",
    "checkpoint = ModelCheckpoint(filepath, monitor='val_loss', verbose=1, save_best_only=True, mode='min')\n",
    "lr_reduce = ReduceLROnPlateau(monitor='val_los', factor=0.1, epsilon=0.0001, patience=1, verbose=1)"
   ]
  },
  {
   "cell_type": "markdown",
   "metadata": {
    "colab_type": "text",
    "id": "J0dhOOq5KjvC"
   },
   "source": [
    "**Simple Feed Forward Network (Baseline)**"
   ]
  },
  {
   "cell_type": "code",
   "execution_count": 7,
   "metadata": {
    "colab": {
     "autoexec": {
      "startup": false,
      "wait_interval": 0
     },
     "base_uri": "https://localhost:8080/",
     "height": 437
    },
    "colab_type": "code",
    "executionInfo": {
     "elapsed": 1423,
     "status": "ok",
     "timestamp": 1531242240438,
     "user": {
      "displayName": "rohit singh",
      "photoUrl": "//lh4.googleusercontent.com/-_sGsyClrnAw/AAAAAAAAAAI/AAAAAAAACuo/yIyIvwGGOqw/s50-c-k-no/photo.jpg",
      "userId": "106822653284104721462"
     },
     "user_tz": -330
    },
    "id": "UbkwRCoNtGt4",
    "outputId": "71d11486-2ee4-42c0-a5e1-3cb31c0c5d0a"
   },
   "outputs": [
    {
     "name": "stdout",
     "output_type": "stream",
     "text": [
      "_________________________________________________________________\n",
      "Layer (type)                 Output Shape              Param #   \n",
      "=================================================================\n",
      "dense_6 (Dense)              (None, 256)               200960    \n",
      "_________________________________________________________________\n",
      "dropout_5 (Dropout)          (None, 256)               0         \n",
      "_________________________________________________________________\n",
      "dense_7 (Dense)              (None, 512)               131584    \n",
      "_________________________________________________________________\n",
      "dropout_6 (Dropout)          (None, 512)               0         \n",
      "_________________________________________________________________\n",
      "dense_8 (Dense)              (None, 1024)              525312    \n",
      "_________________________________________________________________\n",
      "dropout_7 (Dropout)          (None, 1024)              0         \n",
      "_________________________________________________________________\n",
      "dense_9 (Dense)              (None, 2048)              2099200   \n",
      "_________________________________________________________________\n",
      "dropout_8 (Dropout)          (None, 2048)              0         \n",
      "_________________________________________________________________\n",
      "dense_10 (Dense)             (None, 10)                20490     \n",
      "=================================================================\n",
      "Total params: 2,977,546\n",
      "Trainable params: 2,977,546\n",
      "Non-trainable params: 0\n",
      "_________________________________________________________________\n"
     ]
    }
   ],
   "source": [
    "model=Sequential()\n",
    "model.add(Dense(256,input_shape=(784,),activation='relu'))\n",
    "model.add(Dropout(0.2))\n",
    "model.add(Dense(512,activation='relu'))\n",
    "model.add(Dropout(0.3))\n",
    "model.add(Dense(1024,activation='relu'))\n",
    "model.add(Dropout(0.4))\n",
    "model.add(Dense(2048,activation='relu'))\n",
    "model.add(Dropout(0.5))\n",
    "\n",
    "model.add(Dense(10,activation='softmax'))\n",
    "model.summary()"
   ]
  },
  {
   "cell_type": "code",
   "execution_count": 0,
   "metadata": {
    "colab": {
     "autoexec": {
      "startup": false,
      "wait_interval": 0
     }
    },
    "colab_type": "code",
    "id": "aYFRrj4ltdZh"
   },
   "outputs": [],
   "source": [
    "model.compile(loss='categorical_crossentropy', optimizer=OPTIMIZER, metrics=['accuracy'])"
   ]
  },
  {
   "cell_type": "code",
   "execution_count": 9,
   "metadata": {
    "colab": {
     "autoexec": {
      "startup": false,
      "wait_interval": 0
     },
     "base_uri": "https://localhost:8080/",
     "height": 4758
    },
    "colab_type": "code",
    "executionInfo": {
     "elapsed": 275678,
     "status": "ok",
     "timestamp": 1531242527468,
     "user": {
      "displayName": "rohit singh",
      "photoUrl": "//lh4.googleusercontent.com/-_sGsyClrnAw/AAAAAAAAAAI/AAAAAAAACuo/yIyIvwGGOqw/s50-c-k-no/photo.jpg",
      "userId": "106822653284104721462"
     },
     "user_tz": -330
    },
    "id": "5J650UNdv8La",
    "outputId": "04c0f02c-1647-4eea-d430-2edbf7a7cbc3"
   },
   "outputs": [
    {
     "name": "stdout",
     "output_type": "stream",
     "text": [
      "Train on 48000 samples, validate on 12000 samples\n",
      "Epoch 1/70\n",
      "48000/48000 [==============================] - 5s 107us/step - loss: 2.0802 - acc: 0.2908 - val_loss: 1.3622 - val_acc: 0.7209\n",
      "\n",
      "Epoch 00001: val_loss improved from inf to 1.36215, saving model to weights.hdf5\n",
      "Epoch 2/70\n",
      "48000/48000 [==============================] - 4s 81us/step - loss: 1.0919 - acc: 0.6533 - val_loss: 0.5408 - val_acc: 0.8458\n",
      "\n",
      "Epoch 00002: val_loss improved from 1.36215 to 0.54079, saving model to weights.hdf5\n",
      "Epoch 3/70\n",
      "48000/48000 [==============================] - 4s 81us/step - loss: 0.6846 - acc: 0.7805 - val_loss: 0.4035 - val_acc: 0.8811\n",
      "\n",
      "Epoch 00003: val_loss improved from 0.54079 to 0.40351, saving model to weights.hdf5\n",
      "Epoch 4/70\n",
      "24704/48000 [==============>...............] - ETA: 1s - loss: 0.5689 - acc: 0.821448000/48000 [==============================] - 4s 81us/step - loss: 0.5460 - acc: 0.8299 - val_loss: 0.3450 - val_acc: 0.8962\n",
      "\n",
      "Epoch 00004: val_loss improved from 0.40351 to 0.34504, saving model to weights.hdf5\n",
      "Epoch 5/70\n",
      "48000/48000 [==============================] - 4s 82us/step - loss: 0.4757 - acc: 0.8543 - val_loss: 0.3052 - val_acc: 0.9078\n",
      "\n",
      "Epoch 00005: val_loss improved from 0.34504 to 0.30522, saving model to weights.hdf5\n",
      "Epoch 6/70\n",
      "48000/48000 [==============================] - 4s 81us/step - loss: 0.4243 - acc: 0.8721 - val_loss: 0.2785 - val_acc: 0.9163\n",
      "\n",
      "Epoch 00006: val_loss improved from 0.30522 to 0.27846, saving model to weights.hdf5\n",
      "Epoch 7/70\n",
      "40832/48000 [========================>.....] - ETA: 0s - loss: 0.3865 - acc: 0.883748000/48000 [==============================] - 4s 79us/step - loss: 0.3847 - acc: 0.8845 - val_loss: 0.2566 - val_acc: 0.9218\n",
      "\n",
      "Epoch 00007: val_loss improved from 0.27846 to 0.25657, saving model to weights.hdf5\n",
      "Epoch 8/70\n",
      "48000/48000 [==============================] - 4s 81us/step - loss: 0.3565 - acc: 0.8930 - val_loss: 0.2390 - val_acc: 0.9275\n",
      "\n",
      "Epoch 00008: val_loss improved from 0.25657 to 0.23902, saving model to weights.hdf5\n",
      "Epoch 9/70\n",
      "48000/48000 [==============================] - 4s 81us/step - loss: 0.3302 - acc: 0.9016 - val_loss: 0.2249 - val_acc: 0.9314\n",
      "\n",
      "Epoch 00009: val_loss improved from 0.23902 to 0.22489, saving model to weights.hdf5\n",
      "Epoch 10/70\n",
      "43392/48000 [==========================>...] - ETA: 0s - loss: 0.3066 - acc: 0.908948000/48000 [==============================] - 4s 80us/step - loss: 0.3052 - acc: 0.9092 - val_loss: 0.2121 - val_acc: 0.9357\n",
      "\n",
      "Epoch 00010: val_loss improved from 0.22489 to 0.21211, saving model to weights.hdf5\n",
      "Epoch 11/70\n",
      "48000/48000 [==============================] - 4s 80us/step - loss: 0.2885 - acc: 0.9132 - val_loss: 0.1994 - val_acc: 0.9396\n",
      "\n",
      "Epoch 00011: val_loss improved from 0.21211 to 0.19935, saving model to weights.hdf5\n",
      "Epoch 12/70\n",
      "48000/48000 [==============================] - 4s 80us/step - loss: 0.2759 - acc: 0.9184 - val_loss: 0.1872 - val_acc: 0.9429\n",
      "\n",
      "Epoch 00012: val_loss improved from 0.19935 to 0.18721, saving model to weights.hdf5\n",
      "Epoch 13/70\n",
      "43136/48000 [=========================>....] - ETA: 0s - loss: 0.2604 - acc: 0.922548000/48000 [==============================] - 4s 80us/step - loss: 0.2608 - acc: 0.9224 - val_loss: 0.1784 - val_acc: 0.9454\n",
      "\n",
      "Epoch 00013: val_loss improved from 0.18721 to 0.17835, saving model to weights.hdf5\n",
      "Epoch 14/70\n",
      "48000/48000 [==============================] - 4s 80us/step - loss: 0.2464 - acc: 0.9258 - val_loss: 0.1721 - val_acc: 0.9463\n",
      "\n",
      "Epoch 00014: val_loss improved from 0.17835 to 0.17205, saving model to weights.hdf5\n",
      "Epoch 15/70\n",
      "48000/48000 [==============================] - 4s 80us/step - loss: 0.2353 - acc: 0.9294 - val_loss: 0.1612 - val_acc: 0.9508\n",
      "\n",
      "Epoch 00015: val_loss improved from 0.17205 to 0.16117, saving model to weights.hdf5\n",
      "Epoch 16/70\n",
      "42624/48000 [=========================>....] - ETA: 0s - loss: 0.2278 - acc: 0.931848000/48000 [==============================] - 4s 80us/step - loss: 0.2270 - acc: 0.9321 - val_loss: 0.1572 - val_acc: 0.9514\n",
      "\n",
      "Epoch 00016: val_loss improved from 0.16117 to 0.15717, saving model to weights.hdf5\n",
      "Epoch 17/70\n",
      "48000/48000 [==============================] - 4s 80us/step - loss: 0.2168 - acc: 0.9347 - val_loss: 0.1524 - val_acc: 0.9534\n",
      "\n",
      "Epoch 00017: val_loss improved from 0.15717 to 0.15243, saving model to weights.hdf5\n",
      "Epoch 18/70\n",
      "48000/48000 [==============================] - 4s 80us/step - loss: 0.2071 - acc: 0.9371 - val_loss: 0.1464 - val_acc: 0.9553\n",
      "\n",
      "Epoch 00018: val_loss improved from 0.15243 to 0.14636, saving model to weights.hdf5\n",
      "Epoch 19/70\n",
      "43520/48000 [==========================>...] - ETA: 0s - loss: 0.2004 - acc: 0.940048000/48000 [==============================] - 4s 80us/step - loss: 0.1997 - acc: 0.9400 - val_loss: 0.1419 - val_acc: 0.9562\n",
      "\n",
      "Epoch 00019: val_loss improved from 0.14636 to 0.14195, saving model to weights.hdf5\n",
      "Epoch 20/70\n",
      "48000/48000 [==============================] - 4s 81us/step - loss: 0.1943 - acc: 0.9424 - val_loss: 0.1385 - val_acc: 0.9578\n",
      "\n",
      "Epoch 00020: val_loss improved from 0.14195 to 0.13853, saving model to weights.hdf5\n",
      "Epoch 21/70\n",
      "48000/48000 [==============================] - 4s 80us/step - loss: 0.1853 - acc: 0.9441 - val_loss: 0.1346 - val_acc: 0.9592\n",
      "\n",
      "Epoch 00021: val_loss improved from 0.13853 to 0.13459, saving model to weights.hdf5\n",
      "Epoch 22/70\n",
      "42112/48000 [=========================>....] - ETA: 0s - loss: 0.1789 - acc: 0.946248000/48000 [==============================] - 4s 81us/step - loss: 0.1793 - acc: 0.9462 - val_loss: 0.1318 - val_acc: 0.9601\n",
      "\n",
      "Epoch 00022: val_loss improved from 0.13459 to 0.13178, saving model to weights.hdf5\n",
      "Epoch 23/70\n",
      "48000/48000 [==============================] - 4s 81us/step - loss: 0.1744 - acc: 0.9467 - val_loss: 0.1297 - val_acc: 0.9610\n",
      "\n",
      "Epoch 00023: val_loss improved from 0.13178 to 0.12968, saving model to weights.hdf5\n",
      "Epoch 24/70\n",
      "48000/48000 [==============================] - 4s 80us/step - loss: 0.1680 - acc: 0.9482 - val_loss: 0.1257 - val_acc: 0.9620\n",
      "\n",
      "Epoch 00024: val_loss improved from 0.12968 to 0.12574, saving model to weights.hdf5\n",
      "Epoch 25/70\n",
      "43264/48000 [==========================>...] - ETA: 0s - loss: 0.1629 - acc: 0.951248000/48000 [==============================] - 4s 80us/step - loss: 0.1644 - acc: 0.9509 - val_loss: 0.1228 - val_acc: 0.9632\n",
      "\n",
      "Epoch 00025: val_loss improved from 0.12574 to 0.12281, saving model to weights.hdf5\n",
      "Epoch 26/70\n",
      "48000/48000 [==============================] - 4s 80us/step - loss: 0.1575 - acc: 0.9518 - val_loss: 0.1199 - val_acc: 0.9638\n",
      "\n",
      "Epoch 00026: val_loss improved from 0.12281 to 0.11993, saving model to weights.hdf5\n",
      "Epoch 27/70\n",
      "48000/48000 [==============================] - 4s 80us/step - loss: 0.1545 - acc: 0.9534 - val_loss: 0.1174 - val_acc: 0.9648\n",
      "\n",
      "Epoch 00027: val_loss improved from 0.11993 to 0.11739, saving model to weights.hdf5\n",
      "Epoch 28/70\n",
      "42752/48000 [=========================>....] - ETA: 0s - loss: 0.1507 - acc: 0.954948000/48000 [==============================] - 4s 81us/step - loss: 0.1483 - acc: 0.9558 - val_loss: 0.1159 - val_acc: 0.9650\n",
      "\n",
      "Epoch 00028: val_loss improved from 0.11739 to 0.11589, saving model to weights.hdf5\n",
      "Epoch 29/70\n",
      "48000/48000 [==============================] - 4s 80us/step - loss: 0.1459 - acc: 0.9563 - val_loss: 0.1135 - val_acc: 0.9656\n",
      "\n",
      "Epoch 00029: val_loss improved from 0.11589 to 0.11347, saving model to weights.hdf5\n",
      "Epoch 30/70\n",
      "48000/48000 [==============================] - 4s 80us/step - loss: 0.1435 - acc: 0.9567 - val_loss: 0.1126 - val_acc: 0.9668\n",
      "\n",
      "Epoch 00030: val_loss improved from 0.11347 to 0.11257, saving model to weights.hdf5\n",
      "Epoch 31/70\n",
      "43392/48000 [==========================>...] - ETA: 0s - loss: 0.1356 - acc: 0.959748000/48000 [==============================] - 4s 79us/step - loss: 0.1362 - acc: 0.9597 - val_loss: 0.1107 - val_acc: 0.9663\n",
      "\n",
      "Epoch 00031: val_loss improved from 0.11257 to 0.11068, saving model to weights.hdf5\n",
      "Epoch 32/70\n",
      "48000/48000 [==============================] - 4s 80us/step - loss: 0.1363 - acc: 0.9585 - val_loss: 0.1105 - val_acc: 0.9661\n",
      "\n",
      "Epoch 00032: val_loss improved from 0.11068 to 0.11050, saving model to weights.hdf5\n",
      "Epoch 33/70\n",
      "48000/48000 [==============================] - 4s 81us/step - loss: 0.1289 - acc: 0.9610 - val_loss: 0.1082 - val_acc: 0.9672\n",
      "\n",
      "Epoch 00033: val_loss improved from 0.11050 to 0.10824, saving model to weights.hdf5\n",
      "Epoch 34/70\n"
     ]
    },
    {
     "name": "stdout",
     "output_type": "stream",
     "text": [
      "42752/48000 [=========================>....] - ETA: 0s - loss: 0.1251 - acc: 0.962248000/48000 [==============================] - 4s 81us/step - loss: 0.1263 - acc: 0.9617 - val_loss: 0.1059 - val_acc: 0.9685\n",
      "\n",
      "Epoch 00034: val_loss improved from 0.10824 to 0.10588, saving model to weights.hdf5\n",
      "Epoch 35/70\n",
      "48000/48000 [==============================] - 4s 81us/step - loss: 0.1224 - acc: 0.9630 - val_loss: 0.1050 - val_acc: 0.9687\n",
      "\n",
      "Epoch 00035: val_loss improved from 0.10588 to 0.10499, saving model to weights.hdf5\n",
      "Epoch 36/70\n",
      "48000/48000 [==============================] - 4s 80us/step - loss: 0.1228 - acc: 0.9625 - val_loss: 0.1032 - val_acc: 0.9688\n",
      "\n",
      "Epoch 00036: val_loss improved from 0.10499 to 0.10320, saving model to weights.hdf5\n",
      "Epoch 37/70\n",
      "42752/48000 [=========================>....] - ETA: 0s - loss: 0.1184 - acc: 0.964648000/48000 [==============================] - 4s 81us/step - loss: 0.1188 - acc: 0.9647 - val_loss: 0.1036 - val_acc: 0.9687\n",
      "\n",
      "Epoch 00037: val_loss did not improve from 0.10320\n",
      "Epoch 38/70\n",
      "48000/48000 [==============================] - 4s 80us/step - loss: 0.1156 - acc: 0.9647 - val_loss: 0.1023 - val_acc: 0.9695\n",
      "\n",
      "Epoch 00038: val_loss improved from 0.10320 to 0.10233, saving model to weights.hdf5\n",
      "Epoch 39/70\n",
      "48000/48000 [==============================] - 4s 80us/step - loss: 0.1131 - acc: 0.9658 - val_loss: 0.1014 - val_acc: 0.9703\n",
      "\n",
      "Epoch 00039: val_loss improved from 0.10233 to 0.10138, saving model to weights.hdf5\n",
      "Epoch 40/70\n",
      "48000/48000 [==============================] - 4s 80us/step - loss: 0.1114 - acc: 0.9659 - val_loss: 0.0990 - val_acc: 0.9709\n",
      "\n",
      "Epoch 00040: val_loss improved from 0.10138 to 0.09900, saving model to weights.hdf5\n",
      "Epoch 41/70\n",
      "  896/48000 [..............................] - ETA: 3s - loss: 0.1126 - acc: 0.968848000/48000 [==============================] - 4s 80us/step - loss: 0.1107 - acc: 0.9657 - val_loss: 0.0991 - val_acc: 0.9714\n",
      "\n",
      "Epoch 00041: val_loss did not improve from 0.09900\n",
      "Epoch 42/70\n",
      "48000/48000 [==============================] - 4s 81us/step - loss: 0.1070 - acc: 0.9672 - val_loss: 0.0970 - val_acc: 0.9712\n",
      "\n",
      "Epoch 00042: val_loss improved from 0.09900 to 0.09702, saving model to weights.hdf5\n",
      "Epoch 43/70\n",
      "48000/48000 [==============================] - 4s 81us/step - loss: 0.1027 - acc: 0.9685 - val_loss: 0.0963 - val_acc: 0.9717\n",
      "\n",
      "Epoch 00043: val_loss improved from 0.09702 to 0.09634, saving model to weights.hdf5\n",
      "Epoch 44/70\n",
      "44288/48000 [==========================>...] - ETA: 0s - loss: 0.1029 - acc: 0.968148000/48000 [==============================] - 4s 80us/step - loss: 0.1025 - acc: 0.9685 - val_loss: 0.0960 - val_acc: 0.9721\n",
      "\n",
      "Epoch 00044: val_loss improved from 0.09634 to 0.09602, saving model to weights.hdf5\n",
      "Epoch 45/70\n",
      "48000/48000 [==============================] - 4s 81us/step - loss: 0.0973 - acc: 0.9701 - val_loss: 0.0960 - val_acc: 0.9725\n",
      "\n",
      "Epoch 00045: val_loss improved from 0.09602 to 0.09601, saving model to weights.hdf5\n",
      "Epoch 46/70\n",
      "48000/48000 [==============================] - 4s 80us/step - loss: 0.1012 - acc: 0.9694 - val_loss: 0.0934 - val_acc: 0.9732\n",
      "\n",
      "Epoch 00046: val_loss improved from 0.09601 to 0.09339, saving model to weights.hdf5\n",
      "Epoch 47/70\n",
      "42240/48000 [=========================>....] - ETA: 0s - loss: 0.0951 - acc: 0.971048000/48000 [==============================] - 4s 80us/step - loss: 0.0966 - acc: 0.9702 - val_loss: 0.0926 - val_acc: 0.9730\n",
      "\n",
      "Epoch 00047: val_loss improved from 0.09339 to 0.09258, saving model to weights.hdf5\n",
      "Epoch 48/70\n",
      "48000/48000 [==============================] - 4s 80us/step - loss: 0.0946 - acc: 0.9715 - val_loss: 0.0922 - val_acc: 0.9737\n",
      "\n",
      "Epoch 00048: val_loss improved from 0.09258 to 0.09225, saving model to weights.hdf5\n",
      "Epoch 49/70\n",
      "48000/48000 [==============================] - 4s 80us/step - loss: 0.0930 - acc: 0.9709 - val_loss: 0.0923 - val_acc: 0.9733\n",
      "\n",
      "Epoch 00049: val_loss did not improve from 0.09225\n",
      "Epoch 50/70\n",
      "45184/48000 [===========================>..] - ETA: 0s - loss: 0.0903 - acc: 0.971948000/48000 [==============================] - 4s 81us/step - loss: 0.0900 - acc: 0.9721 - val_loss: 0.0913 - val_acc: 0.9741\n",
      "\n",
      "Epoch 00050: val_loss improved from 0.09225 to 0.09134, saving model to weights.hdf5\n",
      "Epoch 51/70\n",
      "48000/48000 [==============================] - 4s 82us/step - loss: 0.0886 - acc: 0.9721 - val_loss: 0.0911 - val_acc: 0.9742\n",
      "\n",
      "Epoch 00051: val_loss improved from 0.09134 to 0.09108, saving model to weights.hdf5\n",
      "Epoch 52/70\n",
      "48000/48000 [==============================] - 4s 78us/step - loss: 0.0881 - acc: 0.9729 - val_loss: 0.0914 - val_acc: 0.9742\n",
      "\n",
      "Epoch 00052: val_loss did not improve from 0.09108\n",
      "Epoch 53/70\n",
      "45312/48000 [===========================>..] - ETA: 0s - loss: 0.0850 - acc: 0.974248000/48000 [==============================] - 4s 80us/step - loss: 0.0845 - acc: 0.9744 - val_loss: 0.0908 - val_acc: 0.9741\n",
      "\n",
      "Epoch 00053: val_loss improved from 0.09108 to 0.09079, saving model to weights.hdf5\n",
      "Epoch 54/70\n",
      "48000/48000 [==============================] - 4s 80us/step - loss: 0.0853 - acc: 0.9733 - val_loss: 0.0889 - val_acc: 0.9748\n",
      "\n",
      "Epoch 00054: val_loss improved from 0.09079 to 0.08886, saving model to weights.hdf5\n",
      "Epoch 55/70\n",
      "48000/48000 [==============================] - 4s 81us/step - loss: 0.0837 - acc: 0.9751 - val_loss: 0.0895 - val_acc: 0.9742\n",
      "\n",
      "Epoch 00055: val_loss did not improve from 0.08886\n",
      "Epoch 56/70\n",
      "45312/48000 [===========================>..] - ETA: 0s - loss: 0.0816 - acc: 0.975148000/48000 [==============================] - 4s 80us/step - loss: 0.0814 - acc: 0.9750 - val_loss: 0.0886 - val_acc: 0.9740\n",
      "\n",
      "Epoch 00056: val_loss improved from 0.08886 to 0.08865, saving model to weights.hdf5\n",
      "Epoch 57/70\n",
      "48000/48000 [==============================] - 4s 80us/step - loss: 0.0801 - acc: 0.9750 - val_loss: 0.0882 - val_acc: 0.9750\n",
      "\n",
      "Epoch 00057: val_loss improved from 0.08865 to 0.08823, saving model to weights.hdf5\n",
      "Epoch 58/70\n",
      "48000/48000 [==============================] - 4s 80us/step - loss: 0.0762 - acc: 0.9769 - val_loss: 0.0884 - val_acc: 0.9746\n",
      "\n",
      "Epoch 00058: val_loss did not improve from 0.08823\n",
      "Epoch 59/70\n",
      "45568/48000 [===========================>..] - ETA: 0s - loss: 0.0764 - acc: 0.976948000/48000 [==============================] - 4s 79us/step - loss: 0.0760 - acc: 0.9770 - val_loss: 0.0872 - val_acc: 0.9756\n",
      "\n",
      "Epoch 00059: val_loss improved from 0.08823 to 0.08718, saving model to weights.hdf5\n",
      "Epoch 60/70\n",
      "48000/48000 [==============================] - 4s 80us/step - loss: 0.0765 - acc: 0.9764 - val_loss: 0.0868 - val_acc: 0.9757\n",
      "\n",
      "Epoch 00060: val_loss improved from 0.08718 to 0.08675, saving model to weights.hdf5\n",
      "Epoch 61/70\n",
      "48000/48000 [==============================] - 4s 81us/step - loss: 0.0754 - acc: 0.9765 - val_loss: 0.0871 - val_acc: 0.9757\n",
      "\n",
      "Epoch 00061: val_loss did not improve from 0.08675\n",
      "Epoch 62/70\n",
      "45312/48000 [===========================>..] - ETA: 0s - loss: 0.0718 - acc: 0.977348000/48000 [==============================] - 4s 80us/step - loss: 0.0720 - acc: 0.9772 - val_loss: 0.0874 - val_acc: 0.9758\n",
      "\n",
      "Epoch 00062: val_loss did not improve from 0.08675\n",
      "Epoch 63/70\n",
      "48000/48000 [==============================] - 4s 79us/step - loss: 0.0726 - acc: 0.9782 - val_loss: 0.0870 - val_acc: 0.9747\n",
      "\n",
      "Epoch 00063: val_loss did not improve from 0.08675\n",
      "Epoch 64/70\n",
      "48000/48000 [==============================] - 4s 80us/step - loss: 0.0695 - acc: 0.9780 - val_loss: 0.0863 - val_acc: 0.9760\n",
      "\n",
      "Epoch 00064: val_loss improved from 0.08675 to 0.08629, saving model to weights.hdf5\n",
      "Epoch 65/70\n",
      "48000/48000 [==============================] - 4s 80us/step - loss: 0.0707 - acc: 0.9771 - val_loss: 0.0856 - val_acc: 0.9759\n",
      "\n",
      "Epoch 00065: val_loss improved from 0.08629 to 0.08561, saving model to weights.hdf5\n",
      "Epoch 66/70\n",
      " 4736/48000 [=>............................] - ETA: 3s - loss: 0.0588 - acc: 0.984048000/48000 [==============================] - 4s 81us/step - loss: 0.0674 - acc: 0.9794 - val_loss: 0.0862 - val_acc: 0.9765\n",
      "\n",
      "Epoch 00066: val_loss did not improve from 0.08561\n",
      "Epoch 67/70\n",
      "48000/48000 [==============================] - 4s 81us/step - loss: 0.0672 - acc: 0.9792 - val_loss: 0.0848 - val_acc: 0.9762\n",
      "\n",
      "Epoch 00067: val_loss improved from 0.08561 to 0.08481, saving model to weights.hdf5\n",
      "Epoch 68/70\n",
      "48000/48000 [==============================] - 4s 80us/step - loss: 0.0661 - acc: 0.9799 - val_loss: 0.0848 - val_acc: 0.9768\n",
      "\n",
      "Epoch 00068: val_loss improved from 0.08481 to 0.08475, saving model to weights.hdf5\n",
      "Epoch 69/70\n"
     ]
    },
    {
     "name": "stdout",
     "output_type": "stream",
     "text": [
      "44288/48000 [==========================>...] - ETA: 0s - loss: 0.0629 - acc: 0.980148000/48000 [==============================] - 4s 81us/step - loss: 0.0629 - acc: 0.9801 - val_loss: 0.0846 - val_acc: 0.9769\n",
      "\n",
      "Epoch 00069: val_loss improved from 0.08475 to 0.08458, saving model to weights.hdf5\n",
      "Epoch 70/70\n",
      "48000/48000 [==============================] - 4s 82us/step - loss: 0.0648 - acc: 0.9800 - val_loss: 0.0857 - val_acc: 0.9763\n",
      "\n",
      "Epoch 00070: val_loss did not improve from 0.08458\n"
     ]
    }
   ],
   "source": [
    "history = model.fit(Xtrain, Ytrain,\n",
    "batch_size=BATCH_SIZE, epochs=NB_EPOCH,\n",
    "verbose=VERBOSE, validation_split=VALIDATION_SPLIT,callbacks=[checkpoint])"
   ]
  },
  {
   "cell_type": "code",
   "execution_count": 10,
   "metadata": {
    "colab": {
     "autoexec": {
      "startup": false,
      "wait_interval": 0
     },
     "base_uri": "https://localhost:8080/",
     "height": 67
    },
    "colab_type": "code",
    "executionInfo": {
     "elapsed": 1659,
     "status": "ok",
     "timestamp": 1531242529560,
     "user": {
      "displayName": "rohit singh",
      "photoUrl": "//lh4.googleusercontent.com/-_sGsyClrnAw/AAAAAAAAAAI/AAAAAAAACuo/yIyIvwGGOqw/s50-c-k-no/photo.jpg",
      "userId": "106822653284104721462"
     },
     "user_tz": -330
    },
    "id": "-YsD8cI2v_-X",
    "outputId": "0fcea83e-3602-41d2-e5a4-ff3ec012f90e"
   },
   "outputs": [
    {
     "name": "stdout",
     "output_type": "stream",
     "text": [
      "10000/10000 [==============================] - 1s 85us/step\n",
      "Test score: 0.07956626667785459\n",
      "Test accuracy: 0.9769\n"
     ]
    }
   ],
   "source": [
    "score = model.evaluate(Xtest, Ytest, verbose=VERBOSE)\n",
    "print(\"Test score:\", score[0])\n",
    "print('Test accuracy:', score[1])"
   ]
  },
  {
   "cell_type": "code",
   "execution_count": 11,
   "metadata": {
    "colab": {
     "autoexec": {
      "startup": false,
      "wait_interval": 0
     },
     "base_uri": "https://localhost:8080/",
     "height": 735
    },
    "colab_type": "code",
    "executionInfo": {
     "elapsed": 1843,
     "status": "ok",
     "timestamp": 1531242533290,
     "user": {
      "displayName": "rohit singh",
      "photoUrl": "//lh4.googleusercontent.com/-_sGsyClrnAw/AAAAAAAAAAI/AAAAAAAACuo/yIyIvwGGOqw/s50-c-k-no/photo.jpg",
      "userId": "106822653284104721462"
     },
     "user_tz": -330
    },
    "id": "q1fwkmjmwX2e",
    "outputId": "6d2cfea7-52a4-48d5-a0a6-4d86f9ac5dd7"
   },
   "outputs": [
    {
     "data": {
      "image/png": "[encoded data removed]",
      "text/plain": [
       "<matplotlib.figure.Figure at 0x7fdc704dd390>"
      ]
     },
     "metadata": {
      "tags": []
     },
     "output_type": "display_data"
    },
    {
     "data": {
      "image/png": "[encoded data removed]",
      "text/plain": [
       "<matplotlib.figure.Figure at 0x7fdc08dd00b8>"
      ]
     },
     "metadata": {
      "tags": []
     },
     "output_type": "display_data"
    }
   ],
   "source": [
    "import matplotlib.pyplot as plt\n",
    "\n",
    "plt.plot(history.history['acc'])\n",
    "plt.plot(history.history['val_acc'])\n",
    "plt.title('model accuracy')\n",
    "plt.ylabel('accuracy')\n",
    "plt.xlabel('epoch')\n",
    "plt.legend(['train', 'test'], loc='upper left')\n",
    "plt.show()\n",
    "# summarize history for loss\n",
    "plt.plot(history.history['loss'])\n",
    "plt.plot(history.history['val_loss'])\n",
    "plt.title('model loss')\n",
    "plt.ylabel('loss')\n",
    "plt.xlabel('epoch')\n",
    "plt.legend(['train', 'test'], loc='upper left')\n",
    "plt.show()"
   ]
  },
  {
   "cell_type": "markdown",
   "metadata": {
    "colab_type": "text",
    "id": "0zC-saqZUZKx"
   },
   "source": [
    "**Convolution  Network**"
   ]
  },
  {
   "cell_type": "code",
   "execution_count": 97,
   "metadata": {
    "colab": {
     "autoexec": {
      "startup": false,
      "wait_interval": 0
     },
     "base_uri": "https://localhost:8080/",
     "height": 739
    },
    "colab_type": "code",
    "executionInfo": {
     "elapsed": 768,
     "status": "ok",
     "timestamp": 1531249353219,
     "user": {
      "displayName": "rohit singh",
      "photoUrl": "//lh4.googleusercontent.com/-_sGsyClrnAw/AAAAAAAAAAI/AAAAAAAACuo/yIyIvwGGOqw/s50-c-k-no/photo.jpg",
      "userId": "106822653284104721462"
     },
     "user_tz": -330
    },
    "id": "UDMhq9GYGjI3",
    "outputId": "a028f503-9a71-42cd-e5c2-ee0f6b3e7bb8"
   },
   "outputs": [
    {
     "name": "stdout",
     "output_type": "stream",
     "text": [
      "_________________________________________________________________\n",
      "Layer (type)                 Output Shape              Param #   \n",
      "=================================================================\n",
      "conv2d_42 (Conv2D)           (None, 28, 28, 20)        520       \n",
      "_________________________________________________________________\n",
      "activation_64 (Activation)   (None, 28, 28, 20)        0         \n",
      "_________________________________________________________________\n",
      "max_pooling2d_33 (MaxPooling (None, 14, 14, 20)        0         \n",
      "_________________________________________________________________\n",
      "conv2d_43 (Conv2D)           (None, 14, 14, 50)        25050     \n",
      "_________________________________________________________________\n",
      "activation_65 (Activation)   (None, 14, 14, 50)        0         \n",
      "_________________________________________________________________\n",
      "max_pooling2d_34 (MaxPooling (None, 7, 7, 50)          0         \n",
      "_________________________________________________________________\n",
      "conv2d_44 (Conv2D)           (None, 7, 7, 50)          62550     \n",
      "_________________________________________________________________\n",
      "activation_66 (Activation)   (None, 7, 7, 50)          0         \n",
      "_________________________________________________________________\n",
      "max_pooling2d_35 (MaxPooling (None, 3, 3, 50)          0         \n",
      "_________________________________________________________________\n",
      "flatten_14 (Flatten)         (None, 450)               0         \n",
      "_________________________________________________________________\n",
      "dense_42 (Dense)             (None, 512)               230912    \n",
      "_________________________________________________________________\n",
      "dropout_19 (Dropout)         (None, 512)               0         \n",
      "_________________________________________________________________\n",
      "activation_67 (Activation)   (None, 512)               0         \n",
      "_________________________________________________________________\n",
      "dense_43 (Dense)             (None, 1024)              525312    \n",
      "_________________________________________________________________\n",
      "dropout_20 (Dropout)         (None, 1024)              0         \n",
      "_________________________________________________________________\n",
      "activation_68 (Activation)   (None, 1024)              0         \n",
      "_________________________________________________________________\n",
      "dense_44 (Dense)             (None, 10)                10250     \n",
      "_________________________________________________________________\n",
      "activation_69 (Activation)   (None, 10)                0         \n",
      "=================================================================\n",
      "Total params: 854,594\n",
      "Trainable params: 854,594\n",
      "Non-trainable params: 0\n",
      "_________________________________________________________________\n"
     ]
    }
   ],
   "source": [
    "from keras.layers import Conv2D, MaxPooling2D, Activation, Flatten\n",
    "model= Sequential()\n",
    "model.add(Conv2D(20, kernel_size=5,padding='same',\n",
    "input_shape=(28,28,1)))\n",
    "model.add(Activation(\"relu\"))\n",
    "model.add(MaxPooling2D(pool_size=(2, 2), strides=(2, 2)))\n",
    "model.add(Conv2D(50, kernel_size=5,padding='same'))\n",
    "model.add(Activation(\"relu\"))\n",
    "model.add(MaxPooling2D(pool_size=(2, 2), strides=(2, 2)))\n",
    "model.add(Conv2D(50, kernel_size=5,padding='same'))\n",
    "model.add(Activation(\"relu\"))\n",
    "model.add(MaxPooling2D(pool_size=(2, 2), strides=(2, 2)))\n",
    "\n",
    "model.add(Flatten())\n",
    "model.add(Dense(512))\n",
    "model.add(Dropout(0.2))\n",
    "model.add(Activation(\"relu\"))\n",
    "model.add(Dense(1024))\n",
    "model.add(Dropout(0.4))\n",
    "model.add(Activation(\"relu\"))\n",
    "\n",
    "model.add(Dense(10))\n",
    "model.add(Activation(\"softmax\"))\n",
    "model.summary()"
   ]
  },
  {
   "cell_type": "code",
   "execution_count": 0,
   "metadata": {
    "colab": {
     "autoexec": {
      "startup": false,
      "wait_interval": 0
     }
    },
    "colab_type": "code",
    "id": "tMgICZBhl3dd"
   },
   "outputs": [],
   "source": [
    "model.compile(loss='categorical_crossentropy', optimizer=Adam(), metrics=['accuracy'])"
   ]
  },
  {
   "cell_type": "code",
   "execution_count": 0,
   "metadata": {
    "colab": {
     "autoexec": {
      "startup": false,
      "wait_interval": 0
     }
    },
    "colab_type": "code",
    "id": "5hbaQw66Ly-4"
   },
   "outputs": [],
   "source": [
    "(Xtrain, ytrain), (Xtest, ytest) = mnist.load_data()          #loading data\n",
    "Xtrain = Xtrain.reshape(Xtrain.shape[0],28, 28,1).astype('float32')/255\n",
    "Xtest = Xtest.reshape(Xtest.shape[0], 28, 28,1).astype('float32')/255\n",
    "ytrain = np_utils.to_categorical(ytrain, 10)\n",
    "ytest = np_utils.to_categorical(ytest, 10)\n",
    "\n"
   ]
  },
  {
   "cell_type": "code",
   "execution_count": 84,
   "metadata": {
    "colab": {
     "autoexec": {
      "startup": false,
      "wait_interval": 0
     },
     "base_uri": "https://localhost:8080/",
     "height": 34
    },
    "colab_type": "code",
    "executionInfo": {
     "elapsed": 817,
     "status": "ok",
     "timestamp": 1531246846429,
     "user": {
      "displayName": "rohit singh",
      "photoUrl": "//lh4.googleusercontent.com/-_sGsyClrnAw/AAAAAAAAAAI/AAAAAAAACuo/yIyIvwGGOqw/s50-c-k-no/photo.jpg",
      "userId": "106822653284104721462"
     },
     "user_tz": -330
    },
    "id": "1uaCH7N-RNlb",
    "outputId": "858b4da3-92c8-4bf1-9be1-3abfaf8b30b7"
   },
   "outputs": [
    {
     "data": {
      "text/plain": [
       "(60000, 28, 28, 1)"
      ]
     },
     "execution_count": 84,
     "metadata": {
      "tags": []
     },
     "output_type": "execute_result"
    }
   ],
   "source": [
    "Xtrain.shape"
   ]
  },
  {
   "cell_type": "code",
   "execution_count": 99,
   "metadata": {
    "colab": {
     "autoexec": {
      "startup": false,
      "wait_interval": 0
     },
     "base_uri": "https://localhost:8080/",
     "height": 4758
    },
    "colab_type": "code",
    "executionInfo": {
     "elapsed": 545060,
     "status": "ok",
     "timestamp": 1531249907362,
     "user": {
      "displayName": "rohit singh",
      "photoUrl": "//lh4.googleusercontent.com/-_sGsyClrnAw/AAAAAAAAAAI/AAAAAAAACuo/yIyIvwGGOqw/s50-c-k-no/photo.jpg",
      "userId": "106822653284104721462"
     },
     "user_tz": -330
    },
    "id": "bKxOARxRLlFq",
    "outputId": "ee321ed8-4311-40e0-8284-95913bc90543"
   },
   "outputs": [
    {
     "name": "stdout",
     "output_type": "stream",
     "text": [
      "Train on 48000 samples, validate on 12000 samples\n",
      "Epoch 1/70\n",
      "48000/48000 [==============================] - 9s 179us/step - loss: 0.2363 - acc: 0.9239 - val_loss: 0.0561 - val_acc: 0.9821\n",
      "\n",
      "Epoch 00001: val_loss improved from 0.07555 to 0.05609, saving model to weights.hdf5\n",
      "Epoch 2/70\n",
      "48000/48000 [==============================] - 8s 161us/step - loss: 0.0575 - acc: 0.9820 - val_loss: 0.0483 - val_acc: 0.9859\n",
      "\n",
      "Epoch 00002: val_loss improved from 0.05609 to 0.04832, saving model to weights.hdf5\n",
      "Epoch 3/70\n",
      "22400/48000 [=============>................] - ETA: 3s - loss: 0.0413 - acc: 0.986948000/48000 [==============================] - 8s 161us/step - loss: 0.0399 - acc: 0.9880 - val_loss: 0.0441 - val_acc: 0.9859\n",
      "\n",
      "Epoch 00003: val_loss improved from 0.04832 to 0.04407, saving model to weights.hdf5\n",
      "Epoch 4/70\n",
      "48000/48000 [==============================] - 8s 162us/step - loss: 0.0285 - acc: 0.9908 - val_loss: 0.0326 - val_acc: 0.9907\n",
      "\n",
      "Epoch 00004: val_loss improved from 0.04407 to 0.03258, saving model to weights.hdf5\n",
      "Epoch 5/70\n",
      "39680/48000 [=======================>......] - ETA: 1s - loss: 0.0234 - acc: 0.992848000/48000 [==============================] - 8s 160us/step - loss: 0.0238 - acc: 0.9928 - val_loss: 0.0365 - val_acc: 0.9908\n",
      "\n",
      "Epoch 00005: val_loss did not improve from 0.03258\n",
      "Epoch 6/70\n",
      "48000/48000 [==============================] - 8s 162us/step - loss: 0.0190 - acc: 0.9943 - val_loss: 0.0318 - val_acc: 0.9904\n",
      "\n",
      "Epoch 00006: val_loss improved from 0.03258 to 0.03184, saving model to weights.hdf5\n",
      "Epoch 7/70\n",
      "48000/48000 [==============================] - 8s 162us/step - loss: 0.0178 - acc: 0.9940 - val_loss: 0.0514 - val_acc: 0.9872\n",
      "\n",
      "Epoch 00007: val_loss did not improve from 0.03184\n",
      "Epoch 8/70\n",
      "  128/48000 [..............................] - ETA: 7s - loss: 0.0029 - acc: 1.000048000/48000 [==============================] - 8s 161us/step - loss: 0.0148 - acc: 0.9955 - val_loss: 0.0467 - val_acc: 0.9888\n",
      "\n",
      "Epoch 00008: val_loss did not improve from 0.03184\n",
      "Epoch 9/70\n",
      "48000/48000 [==============================] - 8s 160us/step - loss: 0.0141 - acc: 0.9954 - val_loss: 0.0449 - val_acc: 0.9894\n",
      "\n",
      "Epoch 00009: val_loss did not improve from 0.03184\n",
      "Epoch 10/70\n",
      "45056/48000 [===========================>..] - ETA: 0s - loss: 0.0141 - acc: 0.995848000/48000 [==============================] - 8s 160us/step - loss: 0.0142 - acc: 0.9957 - val_loss: 0.0478 - val_acc: 0.9878\n",
      "\n",
      "Epoch 00010: val_loss did not improve from 0.03184\n",
      "Epoch 11/70\n",
      "48000/48000 [==============================] - 8s 161us/step - loss: 0.0099 - acc: 0.9969 - val_loss: 0.0486 - val_acc: 0.9897\n",
      "\n",
      "Epoch 00011: val_loss did not improve from 0.03184\n",
      "Epoch 12/70\n",
      "48000/48000 [==============================] - 8s 161us/step - loss: 0.0100 - acc: 0.9966 - val_loss: 0.0491 - val_acc: 0.9894\n",
      "\n",
      "Epoch 00012: val_loss did not improve from 0.03184\n",
      "Epoch 13/70\n",
      " 3200/48000 [=>............................] - ETA: 6s - loss: 0.0141 - acc: 0.996248000/48000 [==============================] - 8s 162us/step - loss: 0.0123 - acc: 0.9965 - val_loss: 0.0375 - val_acc: 0.9910\n",
      "\n",
      "Epoch 00013: val_loss did not improve from 0.03184\n",
      "Epoch 14/70\n",
      "48000/48000 [==============================] - 8s 161us/step - loss: 0.0092 - acc: 0.9973 - val_loss: 0.0420 - val_acc: 0.9898\n",
      "\n",
      "Epoch 00014: val_loss did not improve from 0.03184\n",
      "Epoch 15/70\n",
      "45440/48000 [===========================>..] - ETA: 0s - loss: 0.0116 - acc: 0.996848000/48000 [==============================] - 8s 161us/step - loss: 0.0116 - acc: 0.9967 - val_loss: 0.0408 - val_acc: 0.9914\n",
      "\n",
      "Epoch 00015: val_loss did not improve from 0.03184\n",
      "Epoch 16/70\n",
      "48000/48000 [==============================] - 8s 160us/step - loss: 0.0081 - acc: 0.9976 - val_loss: 0.0460 - val_acc: 0.9905\n",
      "\n",
      "Epoch 00016: val_loss did not improve from 0.03184\n",
      "Epoch 17/70\n",
      "48000/48000 [==============================] - 8s 160us/step - loss: 0.0106 - acc: 0.9972 - val_loss: 0.0402 - val_acc: 0.9910\n",
      "\n",
      "Epoch 00017: val_loss did not improve from 0.03184\n",
      "Epoch 18/70\n",
      " 2816/48000 [>.............................] - ETA: 6s - loss: 0.0054 - acc: 0.998648000/48000 [==============================] - 8s 161us/step - loss: 0.0055 - acc: 0.9984 - val_loss: 0.0426 - val_acc: 0.9918\n",
      "\n",
      "Epoch 00018: val_loss did not improve from 0.03184\n",
      "Epoch 19/70\n",
      "48000/48000 [==============================] - 8s 160us/step - loss: 0.0099 - acc: 0.9972 - val_loss: 0.0546 - val_acc: 0.9898\n",
      "\n",
      "Epoch 00019: val_loss did not improve from 0.03184\n",
      "Epoch 20/70\n",
      "45440/48000 [===========================>..] - ETA: 0s - loss: 0.0088 - acc: 0.997948000/48000 [==============================] - 8s 161us/step - loss: 0.0084 - acc: 0.9980 - val_loss: 0.0367 - val_acc: 0.9917\n",
      "\n",
      "Epoch 00020: val_loss did not improve from 0.03184\n",
      "Epoch 21/70\n",
      "48000/48000 [==============================] - 8s 161us/step - loss: 0.0064 - acc: 0.9983 - val_loss: 0.0528 - val_acc: 0.9884\n",
      "\n",
      "Epoch 00021: val_loss did not improve from 0.03184\n",
      "Epoch 22/70\n",
      "48000/48000 [==============================] - 8s 161us/step - loss: 0.0094 - acc: 0.9974 - val_loss: 0.0417 - val_acc: 0.9918\n",
      "\n",
      "Epoch 00022: val_loss did not improve from 0.03184\n",
      "Epoch 23/70\n",
      " 3200/48000 [=>............................] - ETA: 6s - loss: 0.0053 - acc: 0.998848000/48000 [==============================] - 8s 161us/step - loss: 0.0066 - acc: 0.9981 - val_loss: 0.0434 - val_acc: 0.9917\n",
      "\n",
      "Epoch 00023: val_loss did not improve from 0.03184\n",
      "Epoch 24/70\n",
      "48000/48000 [==============================] - 8s 162us/step - loss: 0.0068 - acc: 0.9982 - val_loss: 0.0456 - val_acc: 0.9915\n",
      "\n",
      "Epoch 00024: val_loss did not improve from 0.03184\n",
      "Epoch 25/70\n",
      "45440/48000 [===========================>..] - ETA: 0s - loss: 0.0062 - acc: 0.998248000/48000 [==============================] - 8s 160us/step - loss: 0.0066 - acc: 0.9981 - val_loss: 0.0478 - val_acc: 0.9901\n",
      "\n",
      "Epoch 00025: val_loss did not improve from 0.03184\n",
      "Epoch 26/70\n",
      "48000/48000 [==============================] - 8s 161us/step - loss: 0.0050 - acc: 0.9986 - val_loss: 0.0583 - val_acc: 0.9910\n",
      "\n",
      "Epoch 00026: val_loss did not improve from 0.03184\n",
      "Epoch 27/70\n",
      "48000/48000 [==============================] - 8s 161us/step - loss: 0.0090 - acc: 0.9976 - val_loss: 0.0485 - val_acc: 0.9912\n",
      "\n",
      "Epoch 00027: val_loss did not improve from 0.03184\n",
      "Epoch 28/70\n",
      " 3200/48000 [=>............................] - ETA: 6s - loss: 0.0050 - acc: 0.998848000/48000 [==============================] - 8s 161us/step - loss: 0.0067 - acc: 0.9983 - val_loss: 0.0537 - val_acc: 0.9904\n",
      "\n",
      "Epoch 00028: val_loss did not improve from 0.03184\n",
      "Epoch 29/70\n",
      "48000/48000 [==============================] - 8s 162us/step - loss: 0.0074 - acc: 0.9980 - val_loss: 0.0485 - val_acc: 0.9907\n",
      "\n",
      "Epoch 00029: val_loss did not improve from 0.03184\n",
      "Epoch 30/70\n",
      "45440/48000 [===========================>..] - ETA: 0s - loss: 0.0028 - acc: 0.999248000/48000 [==============================] - 8s 161us/step - loss: 0.0034 - acc: 0.9991 - val_loss: 0.0678 - val_acc: 0.9872\n",
      "\n",
      "Epoch 00030: val_loss did not improve from 0.03184\n",
      "Epoch 31/70\n",
      "48000/48000 [==============================] - 8s 161us/step - loss: 0.0054 - acc: 0.9986 - val_loss: 0.0643 - val_acc: 0.9896\n",
      "\n",
      "Epoch 00031: val_loss did not improve from 0.03184\n",
      "Epoch 32/70\n",
      "48000/48000 [==============================] - 8s 161us/step - loss: 0.0101 - acc: 0.9975 - val_loss: 0.0595 - val_acc: 0.9893\n",
      "\n",
      "Epoch 00032: val_loss did not improve from 0.03184\n",
      "Epoch 33/70\n",
      " 3200/48000 [=>............................] - ETA: 6s - loss: 0.0031 - acc: 0.998448000/48000 [==============================] - 8s 162us/step - loss: 0.0061 - acc: 0.9982 - val_loss: 0.0514 - val_acc: 0.9919\n",
      "\n",
      "Epoch 00033: val_loss did not improve from 0.03184\n",
      "Epoch 34/70\n",
      "48000/48000 [==============================] - 8s 161us/step - loss: 0.0037 - acc: 0.9991 - val_loss: 0.0691 - val_acc: 0.9912\n",
      "\n",
      "Epoch 00034: val_loss did not improve from 0.03184\n",
      "Epoch 35/70\n",
      "45440/48000 [===========================>..] - ETA: 0s - loss: 0.0065 - acc: 0.998448000/48000 [==============================] - 8s 160us/step - loss: 0.0062 - acc: 0.9984 - val_loss: 0.0497 - val_acc: 0.9918\n",
      "\n",
      "Epoch 00035: val_loss did not improve from 0.03184\n",
      "Epoch 36/70\n",
      "48000/48000 [==============================] - 8s 161us/step - loss: 0.0024 - acc: 0.9994 - val_loss: 0.0654 - val_acc: 0.9918\n",
      "\n",
      "Epoch 00036: val_loss did not improve from 0.03184\n",
      "Epoch 37/70\n",
      "48000/48000 [==============================] - 8s 162us/step - loss: 0.0100 - acc: 0.9978 - val_loss: 0.0549 - val_acc: 0.9916\n",
      "\n",
      "Epoch 00037: val_loss did not improve from 0.03184\n",
      "Epoch 38/70\n"
     ]
    },
    {
     "name": "stdout",
     "output_type": "stream",
     "text": [
      " 2816/48000 [>.............................] - ETA: 6s - loss: 0.0042 - acc: 0.998648000/48000 [==============================] - 8s 161us/step - loss: 0.0062 - acc: 0.9985 - val_loss: 0.0460 - val_acc: 0.9928\n",
      "\n",
      "Epoch 00038: val_loss did not improve from 0.03184\n",
      "Epoch 39/70\n",
      "48000/48000 [==============================] - 8s 161us/step - loss: 0.0035 - acc: 0.9991 - val_loss: 0.0534 - val_acc: 0.9918\n",
      "\n",
      "Epoch 00039: val_loss did not improve from 0.03184\n",
      "Epoch 40/70\n",
      "45056/48000 [===========================>..] - ETA: 0s - loss: 0.0054 - acc: 0.998848000/48000 [==============================] - 8s 161us/step - loss: 0.0052 - acc: 0.9989 - val_loss: 0.0455 - val_acc: 0.9927\n",
      "\n",
      "Epoch 00040: val_loss did not improve from 0.03184\n",
      "Epoch 41/70\n",
      "48000/48000 [==============================] - 8s 162us/step - loss: 0.0075 - acc: 0.9982 - val_loss: 0.0630 - val_acc: 0.9910\n",
      "\n",
      "Epoch 00041: val_loss did not improve from 0.03184\n",
      "Epoch 42/70\n",
      "48000/48000 [==============================] - 8s 162us/step - loss: 0.0062 - acc: 0.9987 - val_loss: 0.0761 - val_acc: 0.9897\n",
      "\n",
      "Epoch 00042: val_loss did not improve from 0.03184\n",
      "Epoch 43/70\n",
      " 3200/48000 [=>............................] - ETA: 6s - loss: 0.0127 - acc: 0.996648000/48000 [==============================] - 8s 161us/step - loss: 0.0069 - acc: 0.9985 - val_loss: 0.0671 - val_acc: 0.9901\n",
      "\n",
      "Epoch 00043: val_loss did not improve from 0.03184\n",
      "Epoch 44/70\n",
      "48000/48000 [==============================] - 8s 162us/step - loss: 0.0034 - acc: 0.9990 - val_loss: 0.0574 - val_acc: 0.9923\n",
      "\n",
      "Epoch 00044: val_loss did not improve from 0.03184\n",
      "Epoch 45/70\n",
      "45440/48000 [===========================>..] - ETA: 0s - loss: 0.0057 - acc: 0.998848000/48000 [==============================] - 8s 163us/step - loss: 0.0058 - acc: 0.9988 - val_loss: 0.0557 - val_acc: 0.9922\n",
      "\n",
      "Epoch 00045: val_loss did not improve from 0.03184\n",
      "Epoch 46/70\n",
      "48000/48000 [==============================] - 8s 163us/step - loss: 0.0039 - acc: 0.9990 - val_loss: 0.0644 - val_acc: 0.9920\n",
      "\n",
      "Epoch 00046: val_loss did not improve from 0.03184\n",
      "Epoch 47/70\n",
      "48000/48000 [==============================] - 8s 161us/step - loss: 0.0056 - acc: 0.9987 - val_loss: 0.0691 - val_acc: 0.9911\n",
      "\n",
      "Epoch 00047: val_loss did not improve from 0.03184\n",
      "Epoch 48/70\n",
      " 3200/48000 [=>............................] - ETA: 6s - loss: 0.0041 - acc: 0.998848000/48000 [==============================] - 8s 160us/step - loss: 0.0046 - acc: 0.9990 - val_loss: 0.0576 - val_acc: 0.9921\n",
      "\n",
      "Epoch 00048: val_loss did not improve from 0.03184\n",
      "Epoch 49/70\n",
      "48000/48000 [==============================] - 8s 161us/step - loss: 0.0054 - acc: 0.9987 - val_loss: 0.0647 - val_acc: 0.9917\n",
      "\n",
      "Epoch 00049: val_loss did not improve from 0.03184\n",
      "Epoch 50/70\n",
      "45440/48000 [===========================>..] - ETA: 0s - loss: 0.0063 - acc: 0.998748000/48000 [==============================] - 8s 161us/step - loss: 0.0063 - acc: 0.9986 - val_loss: 0.0646 - val_acc: 0.9915\n",
      "\n",
      "Epoch 00050: val_loss did not improve from 0.03184\n",
      "Epoch 51/70\n",
      "48000/48000 [==============================] - 8s 162us/step - loss: 0.0059 - acc: 0.9986 - val_loss: 0.0769 - val_acc: 0.9911\n",
      "\n",
      "Epoch 00051: val_loss did not improve from 0.03184\n",
      "Epoch 52/70\n",
      "48000/48000 [==============================] - 8s 161us/step - loss: 0.0030 - acc: 0.9993 - val_loss: 0.0678 - val_acc: 0.9912\n",
      "\n",
      "Epoch 00052: val_loss did not improve from 0.03184\n",
      "Epoch 53/70\n",
      " 3200/48000 [=>............................] - ETA: 6s - loss: 0.0035 - acc: 0.999448000/48000 [==============================] - 8s 162us/step - loss: 0.0036 - acc: 0.9992 - val_loss: 0.0637 - val_acc: 0.9927\n",
      "\n",
      "Epoch 00053: val_loss did not improve from 0.03184\n",
      "Epoch 54/70\n",
      "48000/48000 [==============================] - 8s 162us/step - loss: 0.0108 - acc: 0.9983 - val_loss: 0.0790 - val_acc: 0.9904\n",
      "\n",
      "Epoch 00054: val_loss did not improve from 0.03184\n",
      "Epoch 55/70\n",
      "45056/48000 [===========================>..] - ETA: 0s - loss: 0.0097 - acc: 0.998348000/48000 [==============================] - 8s 160us/step - loss: 0.0092 - acc: 0.9984 - val_loss: 0.0620 - val_acc: 0.9922\n",
      "\n",
      "Epoch 00055: val_loss did not improve from 0.03184\n",
      "Epoch 56/70\n",
      "48000/48000 [==============================] - 8s 163us/step - loss: 0.0039 - acc: 0.9991 - val_loss: 0.0653 - val_acc: 0.9922\n",
      "\n",
      "Epoch 00056: val_loss did not improve from 0.03184\n",
      "Epoch 57/70\n",
      "48000/48000 [==============================] - 8s 162us/step - loss: 0.0088 - acc: 0.9984 - val_loss: 0.0710 - val_acc: 0.9909\n",
      "\n",
      "Epoch 00057: val_loss did not improve from 0.03184\n",
      "Epoch 58/70\n",
      " 3200/48000 [=>............................] - ETA: 6s - loss: 0.0031 - acc: 0.998848000/48000 [==============================] - 8s 162us/step - loss: 0.0056 - acc: 0.9989 - val_loss: 0.0927 - val_acc: 0.9900\n",
      "\n",
      "Epoch 00058: val_loss did not improve from 0.03184\n",
      "Epoch 59/70\n",
      "48000/48000 [==============================] - 8s 161us/step - loss: 0.0044 - acc: 0.9991 - val_loss: 0.0727 - val_acc: 0.9924\n",
      "\n",
      "Epoch 00059: val_loss did not improve from 0.03184\n",
      "Epoch 60/70\n",
      "45440/48000 [===========================>..] - ETA: 0s - loss: 0.0065 - acc: 0.998848000/48000 [==============================] - 8s 161us/step - loss: 0.0067 - acc: 0.9988 - val_loss: 0.0746 - val_acc: 0.9907\n",
      "\n",
      "Epoch 00060: val_loss did not improve from 0.03184\n",
      "Epoch 61/70\n",
      "48000/48000 [==============================] - 8s 161us/step - loss: 0.0071 - acc: 0.9986 - val_loss: 0.0590 - val_acc: 0.9924\n",
      "\n",
      "Epoch 00061: val_loss did not improve from 0.03184\n",
      "Epoch 62/70\n",
      "48000/48000 [==============================] - 8s 162us/step - loss: 0.0028 - acc: 0.9994 - val_loss: 0.0692 - val_acc: 0.9912\n",
      "\n",
      "Epoch 00062: val_loss did not improve from 0.03184\n",
      "Epoch 63/70\n",
      " 3200/48000 [=>............................] - ETA: 6s - loss: 0.0018 - acc: 0.999448000/48000 [==============================] - 8s 162us/step - loss: 0.0012 - acc: 0.9998 - val_loss: 0.0627 - val_acc: 0.9926\n",
      "\n",
      "Epoch 00063: val_loss did not improve from 0.03184\n",
      "Epoch 64/70\n",
      "48000/48000 [==============================] - 8s 161us/step - loss: 0.0084 - acc: 0.9983 - val_loss: 0.0828 - val_acc: 0.9899\n",
      "\n",
      "Epoch 00064: val_loss did not improve from 0.03184\n",
      "Epoch 65/70\n",
      "45056/48000 [===========================>..] - ETA: 0s - loss: 0.0088 - acc: 0.998448000/48000 [==============================] - 8s 161us/step - loss: 0.0083 - acc: 0.9985 - val_loss: 0.0615 - val_acc: 0.9932\n",
      "\n",
      "Epoch 00065: val_loss did not improve from 0.03184\n",
      "Epoch 66/70\n",
      "48000/48000 [==============================] - 8s 161us/step - loss: 0.0029 - acc: 0.9994 - val_loss: 0.0603 - val_acc: 0.9924\n",
      "\n",
      "Epoch 00066: val_loss did not improve from 0.03184\n",
      "Epoch 67/70\n",
      "48000/48000 [==============================] - 8s 161us/step - loss: 0.0024 - acc: 0.9994 - val_loss: 0.0676 - val_acc: 0.9916\n",
      "\n",
      "Epoch 00067: val_loss did not improve from 0.03184\n",
      "Epoch 68/70\n",
      " 2816/48000 [>.............................] - ETA: 6s - loss: 1.4131e-04 - acc: 1.000048000/48000 [==============================] - 8s 162us/step - loss: 0.0015 - acc: 0.9996 - val_loss: 0.0772 - val_acc: 0.9917\n",
      "\n",
      "Epoch 00068: val_loss did not improve from 0.03184\n",
      "Epoch 69/70\n",
      "48000/48000 [==============================] - 8s 161us/step - loss: 0.0052 - acc: 0.9992 - val_loss: 0.0947 - val_acc: 0.9884\n",
      "\n",
      "Epoch 00069: val_loss did not improve from 0.03184\n",
      "Epoch 70/70\n",
      "44672/48000 [==========================>...] - ETA: 0s - loss: 0.0140 - acc: 0.997848000/48000 [==============================] - 8s 161us/step - loss: 0.0134 - acc: 0.9979 - val_loss: 0.0739 - val_acc: 0.9933\n",
      "\n",
      "Epoch 00070: val_loss did not improve from 0.03184\n"
     ]
    }
   ],
   "source": [
    "history = model.fit(Xtrain, Ytrain,\n",
    "batch_size=BATCH_SIZE, epochs=NB_EPOCH,\n",
    "verbose=VERBOSE, validation_split=VALIDATION_SPLIT,callbacks=[checkpoint])"
   ]
  },
  {
   "cell_type": "code",
   "execution_count": 100,
   "metadata": {
    "colab": {
     "autoexec": {
      "startup": false,
      "wait_interval": 0
     },
     "base_uri": "https://localhost:8080/",
     "height": 67
    },
    "colab_type": "code",
    "executionInfo": {
     "elapsed": 2014,
     "status": "ok",
     "timestamp": 1531249930986,
     "user": {
      "displayName": "rohit singh",
      "photoUrl": "//lh4.googleusercontent.com/-_sGsyClrnAw/AAAAAAAAAAI/AAAAAAAACuo/yIyIvwGGOqw/s50-c-k-no/photo.jpg",
      "userId": "106822653284104721462"
     },
     "user_tz": -330
    },
    "id": "DLwn6TDzLrx4",
    "outputId": "3bebc22b-e412-4a09-ecd1-ee581659971a"
   },
   "outputs": [
    {
     "name": "stdout",
     "output_type": "stream",
     "text": [
      "10000/10000 [==============================] - 1s 126us/step\n",
      "Test score: 0.07942480222790975\n",
      "Test accuracy: 0.9913\n"
     ]
    }
   ],
   "source": [
    "score = model.evaluate(Xtest, Ytest, verbose=VERBOSE)\n",
    "print(\"Test score:\", score[0])\n",
    "print('Test accuracy:', score[1])"
   ]
  },
  {
   "cell_type": "code",
   "execution_count": 101,
   "metadata": {
    "colab": {
     "autoexec": {
      "startup": false,
      "wait_interval": 0
     },
     "base_uri": "https://localhost:8080/",
     "height": 735
    },
    "colab_type": "code",
    "executionInfo": {
     "elapsed": 1887,
     "status": "ok",
     "timestamp": 1531249933235,
     "user": {
      "displayName": "rohit singh",
      "photoUrl": "//lh4.googleusercontent.com/-_sGsyClrnAw/AAAAAAAAAAI/AAAAAAAACuo/yIyIvwGGOqw/s50-c-k-no/photo.jpg",
      "userId": "106822653284104721462"
     },
     "user_tz": -330
    },
    "id": "V-rdygZHUsa6",
    "outputId": "c2315df3-7bca-4f62-90e3-4e51def3ff64"
   },
   "outputs": [
    {
     "data": {
      "image/png": "[encoded data removed]",
      "text/plain": [
       "<matplotlib.figure.Figure at 0x7fdbde49f828>"
      ]
     },
     "metadata": {
      "tags": []
     },
     "output_type": "display_data"
    },
    {
     "data": {
      "image/png": "[encoded data removed]",
      "text/plain": [
       "<matplotlib.figure.Figure at 0x7fdbe9ecefd0>"
      ]
     },
     "metadata": {
      "tags": []
     },
     "output_type": "display_data"
    }
   ],
   "source": [
    "import matplotlib.pyplot as plt\n",
    "\n",
    "plt.plot(history.history['acc'])\n",
    "plt.plot(history.history['val_acc'])\n",
    "plt.title('model accuracy')\n",
    "plt.ylabel('accuracy')\n",
    "plt.xlabel('epoch')\n",
    "plt.legend(['train', 'test'], loc='upper left')\n",
    "plt.show()\n",
    "# summarize history for loss\n",
    "plt.plot(history.history['loss'])\n",
    "plt.plot(history.history['val_loss'])\n",
    "plt.title('model loss')\n",
    "plt.ylabel('loss')\n",
    "plt.xlabel('epoch')\n",
    "plt.legend(['train', 'test'], loc='upper left')\n",
    "plt.show()"
   ]
  },
  {
   "cell_type": "markdown",
   "metadata": {
    "colab_type": "text",
    "id": "e4XF_eHCnCrC"
   },
   "source": [
    "**Data Augmented Convolutional Neural Network**"
   ]
  },
  {
   "cell_type": "code",
   "execution_count": 0,
   "metadata": {
    "colab": {
     "autoexec": {
      "startup": false,
      "wait_interval": 0
     }
    },
    "colab_type": "code",
    "id": "vM-oDD5pUz-b"
   },
   "outputs": [],
   "source": [
    "from keras.preprocessing.image import ImageDataGenerator\n",
    "datagen = ImageDataGenerator(\n",
    "        featurewise_center=False,  # set input mean to 0 over the dataset\n",
    "        samplewise_center=False,  # set each sample mean to 0\n",
    "        featurewise_std_normalization=False,  # divide inputs by std of the dataset\n",
    "        samplewise_std_normalization=False,  # divide each input by its std\n",
    "        zca_whitening=False,  # apply ZCA whitening\n",
    "        rotation_range=10,  # randomly rotate images in the range (degrees, 0 to 180)\n",
    "        zoom_range = 0.0, # Randomly zoom image \n",
    "        width_shift_range=0.1,  # randomly shift images horizontally (fraction of total width)\n",
    "        height_shift_range=0.1,  # randomly shift images vertically (fraction of total height)\n",
    "        horizontal_flip=False,  # randomly flip images\n",
    "        vertical_flip=False)  # randomly flip images\n",
    "\n",
    "datagen.fit(Xtrain)"
   ]
  },
  {
   "cell_type": "code",
   "execution_count": 107,
   "metadata": {
    "colab": {
     "autoexec": {
      "startup": false,
      "wait_interval": 0
     },
     "base_uri": "https://localhost:8080/",
     "height": 1381
    },
    "colab_type": "code",
    "executionInfo": {
     "elapsed": 445315,
     "status": "ok",
     "timestamp": 1531250826758,
     "user": {
      "displayName": "rohit singh",
      "photoUrl": "//lh4.googleusercontent.com/-_sGsyClrnAw/AAAAAAAAAAI/AAAAAAAACuo/yIyIvwGGOqw/s50-c-k-no/photo.jpg",
      "userId": "106822653284104721462"
     },
     "user_tz": -330
    },
    "id": "m-tgyIT7nXN7",
    "outputId": "8bce135e-861b-4751-d45b-166ab2d1d0de"
   },
   "outputs": [
    {
     "name": "stdout",
     "output_type": "stream",
     "text": [
      "Epoch 1/20\n",
      "469/469 [==============================] - 21s 45ms/step - loss: 0.0371 - acc: 0.9899 - val_loss: 0.0279 - val_acc: 0.9939\n",
      "\n",
      "Epoch 00001: val_loss improved from 0.02849 to 0.02791, saving model to weights.hdf5\n",
      "Epoch 2/20\n",
      "407/469 [=========================>....] - ETA: 2s - loss: 0.0353 - acc: 0.9909469/469 [==============================] - 22s 47ms/step - loss: 0.0354 - acc: 0.9907 - val_loss: 0.0246 - val_acc: 0.9940\n",
      "\n",
      "Epoch 00002: val_loss improved from 0.02791 to 0.02464, saving model to weights.hdf5\n",
      "Epoch 3/20\n",
      "469/469 [==============================] - 22s 47ms/step - loss: 0.0314 - acc: 0.9916 - val_loss: 0.0261 - val_acc: 0.9929\n",
      "\n",
      "Epoch 00003: val_loss did not improve from 0.02464\n",
      "Epoch 4/20\n",
      " 55/469 [==>...........................] - ETA: 16s - loss: 0.0282 - acc: 0.9906469/469 [==============================] - 22s 47ms/step - loss: 0.0309 - acc: 0.9914 - val_loss: 0.0237 - val_acc: 0.9938\n",
      "\n",
      "Epoch 00004: val_loss improved from 0.02464 to 0.02370, saving model to weights.hdf5\n",
      "Epoch 5/20\n",
      "430/469 [==========================>...] - ETA: 1s - loss: 0.0256 - acc: 0.9931469/469 [==============================] - 22s 48ms/step - loss: 0.0253 - acc: 0.9931 - val_loss: 0.0214 - val_acc: 0.9940\n",
      "\n",
      "Epoch 00005: val_loss improved from 0.02370 to 0.02136, saving model to weights.hdf5\n",
      "Epoch 6/20\n",
      "469/469 [==============================] - 22s 47ms/step - loss: 0.0275 - acc: 0.9927 - val_loss: 0.0271 - val_acc: 0.9922\n",
      "\n",
      "Epoch 00006: val_loss did not improve from 0.02136\n",
      "Epoch 7/20\n",
      " 51/469 [==>...........................] - ETA: 16s - loss: 0.0297 - acc: 0.9916469/469 [==============================] - 22s 47ms/step - loss: 0.0270 - acc: 0.9926 - val_loss: 0.0234 - val_acc: 0.9937\n",
      "\n",
      "Epoch 00007: val_loss did not improve from 0.02136\n",
      "Epoch 8/20\n",
      "469/469 [==============================] - 23s 48ms/step - loss: 0.0262 - acc: 0.9929 - val_loss: 0.0195 - val_acc: 0.9944\n",
      "\n",
      "Epoch 00008: val_loss improved from 0.02136 to 0.01954, saving model to weights.hdf5\n",
      "Epoch 9/20\n",
      "  3/469 [..............................] - ETA: 13s - loss: 0.0197 - acc: 0.9948469/469 [==============================] - 22s 48ms/step - loss: 0.0232 - acc: 0.9933 - val_loss: 0.0269 - val_acc: 0.9927\n",
      "\n",
      "Epoch 00009: val_loss did not improve from 0.01954\n",
      "Epoch 10/20\n",
      "440/469 [===========================>..] - ETA: 1s - loss: 0.0226 - acc: 0.9939469/469 [==============================] - 22s 48ms/step - loss: 0.0228 - acc: 0.9937 - val_loss: 0.0271 - val_acc: 0.9941\n",
      "\n",
      "Epoch 00010: val_loss did not improve from 0.01954\n",
      "Epoch 11/20\n",
      "469/469 [==============================] - 22s 47ms/step - loss: 0.0220 - acc: 0.9939 - val_loss: 0.0227 - val_acc: 0.9943\n",
      "\n",
      "Epoch 00011: val_loss did not improve from 0.01954\n",
      "Epoch 12/20\n",
      " 90/469 [====>.........................] - ETA: 16s - loss: 0.0199 - acc: 0.9952469/469 [==============================] - 22s 47ms/step - loss: 0.0237 - acc: 0.9936 - val_loss: 0.0199 - val_acc: 0.9936\n",
      "\n",
      "Epoch 00012: val_loss did not improve from 0.01954\n",
      "Epoch 13/20\n",
      "469/469 [==============================] - 22s 48ms/step - loss: 0.0216 - acc: 0.9943 - val_loss: 0.0238 - val_acc: 0.9932\n",
      "\n",
      "Epoch 00013: val_loss did not improve from 0.01954\n",
      "Epoch 14/20\n",
      "  5/469 [..............................] - ETA: 13s - loss: 0.0181 - acc: 0.9938469/469 [==============================] - 22s 47ms/step - loss: 0.0194 - acc: 0.9944 - val_loss: 0.0259 - val_acc: 0.9937\n",
      "\n",
      "Epoch 00014: val_loss did not improve from 0.01954\n",
      "Epoch 15/20\n",
      "459/469 [============================>.] - ETA: 0s - loss: 0.0211 - acc: 0.9944469/469 [==============================] - 22s 48ms/step - loss: 0.0212 - acc: 0.9944 - val_loss: 0.0245 - val_acc: 0.9944\n",
      "\n",
      "Epoch 00015: val_loss did not improve from 0.01954\n",
      "Epoch 16/20\n",
      "469/469 [==============================] - 22s 47ms/step - loss: 0.0194 - acc: 0.9948 - val_loss: 0.0222 - val_acc: 0.9940\n",
      "\n",
      "Epoch 00016: val_loss did not improve from 0.01954\n",
      "Epoch 17/20\n",
      " 88/469 [====>.........................] - ETA: 16s - loss: 0.0185 - acc: 0.9950469/469 [==============================] - 22s 48ms/step - loss: 0.0172 - acc: 0.9953 - val_loss: 0.0194 - val_acc: 0.9943\n",
      "\n",
      "Epoch 00017: val_loss improved from 0.01954 to 0.01940, saving model to weights.hdf5\n",
      "Epoch 18/20\n",
      "437/469 [==========================>...] - ETA: 1s - loss: 0.0171 - acc: 0.9954469/469 [==============================] - 22s 47ms/step - loss: 0.0174 - acc: 0.9953 - val_loss: 0.0210 - val_acc: 0.9949\n",
      "\n",
      "Epoch 00018: val_loss did not improve from 0.01940\n",
      "Epoch 19/20\n",
      "469/469 [==============================] - 22s 48ms/step - loss: 0.0195 - acc: 0.9942 - val_loss: 0.0311 - val_acc: 0.9917\n",
      "\n",
      "Epoch 00019: val_loss did not improve from 0.01940\n",
      "Epoch 20/20\n",
      " 79/469 [====>.........................] - ETA: 16s - loss: 0.0197 - acc: 0.9944469/469 [==============================] - 22s 48ms/step - loss: 0.0191 - acc: 0.9948 - val_loss: 0.0287 - val_acc: 0.9937\n",
      "\n",
      "Epoch 00020: val_loss did not improve from 0.01940\n"
     ]
    }
   ],
   "source": [
    "history = model.fit_generator(datagen.flow(Xtrain, Ytrain,batch_size=BATCH_SIZE), epochs=20,\n",
    "verbose=VERBOSE, validation_data=(Xtest,Ytest),callbacks=[checkpoint])"
   ]
  },
  {
   "cell_type": "code",
   "execution_count": 108,
   "metadata": {
    "colab": {
     "autoexec": {
      "startup": false,
      "wait_interval": 0
     },
     "base_uri": "https://localhost:8080/",
     "height": 735
    },
    "colab_type": "code",
    "executionInfo": {
     "elapsed": 1952,
     "status": "ok",
     "timestamp": 1531250828910,
     "user": {
      "displayName": "rohit singh",
      "photoUrl": "//lh4.googleusercontent.com/-_sGsyClrnAw/AAAAAAAAAAI/AAAAAAAACuo/yIyIvwGGOqw/s50-c-k-no/photo.jpg",
      "userId": "106822653284104721462"
     },
     "user_tz": -330
    },
    "id": "F2j-vRh1nuJ1",
    "outputId": "583f6976-6416-4ba4-b1ed-0a5c7ec33186"
   },
   "outputs": [
    {
     "data": {
      "image/png": "[encoded data removed]",
      "text/plain": [
       "<matplotlib.figure.Figure at 0x7fdbd9bb9ef0>"
      ]
     },
     "metadata": {
      "tags": []
     },
     "output_type": "display_data"
    },
    {
     "data": {
      "image/png": "[encoded data removed]",
      "text/plain": [
       "<matplotlib.figure.Figure at 0x7fdbde2b8c18>"
      ]
     },
     "metadata": {
      "tags": []
     },
     "output_type": "display_data"
    }
   ],
   "source": [
    "import matplotlib.pyplot as plt\n",
    "\n",
    "plt.plot(history.history['acc'])\n",
    "plt.plot(history.history['val_acc'])\n",
    "plt.title('model accuracy')\n",
    "plt.ylabel('accuracy')\n",
    "plt.xlabel('epoch')\n",
    "plt.legend(['train', 'test'], loc='upper left')\n",
    "plt.show()\n",
    "# summarize history for loss\n",
    "plt.plot(history.history['loss'])\n",
    "plt.plot(history.history['val_loss'])\n",
    "plt.title('model loss')\n",
    "plt.ylabel('loss')\n",
    "plt.xlabel('epoch')\n",
    "plt.legend(['train', 'test'], loc='upper left')\n",
    "plt.show()"
   ]
  },
  {
   "cell_type": "code",
   "execution_count": 112,
   "metadata": {
    "colab": {
     "autoexec": {
      "startup": false,
      "wait_interval": 0
     },
     "base_uri": "https://localhost:8080/",
     "height": 67
    },
    "colab_type": "code",
    "executionInfo": {
     "elapsed": 2949,
     "status": "ok",
     "timestamp": 1531251132649,
     "user": {
      "displayName": "rohit singh",
      "photoUrl": "//lh4.googleusercontent.com/-_sGsyClrnAw/AAAAAAAAAAI/AAAAAAAACuo/yIyIvwGGOqw/s50-c-k-no/photo.jpg",
      "userId": "106822653284104721462"
     },
     "user_tz": -330
    },
    "id": "Dz7Exf2gqCKJ",
    "outputId": "69b94a29-8ba3-4afa-b83e-157a0a44fc31"
   },
   "outputs": [
    {
     "name": "stdout",
     "output_type": "stream",
     "text": [
      "10000/10000 [==============================] - 1s 138us/step\n",
      "Test score: 0.028733402195702296\n",
      "Test accuracy: 0.9937\n"
     ]
    }
   ],
   "source": [
    "score = model.evaluate(Xtest, Ytest, verbose=VERBOSE)\n",
    "print(\"Test score:\", score[0])\n",
    "print('Test accuracy:', score[1])"
   ]
  },
  {
   "cell_type": "code",
   "execution_count": 0,
   "metadata": {
    "colab": {
     "autoexec": {
      "startup": false,
      "wait_interval": 0
     }
    },
    "colab_type": "code",
    "id": "N3ne0A8SqiSa"
   },
   "outputs": [],
   "source": []
  }
 ],
 "metadata": {
  "accelerator": "GPU",
  "colab": {
   "collapsed_sections": [],
   "default_view": {},
   "name": "MNIST-digit-recogintion.ipynb",
   "provenance": [],
   "version": "0.3.2",
   "views": {}
  },
  "kernelspec": {
   "display_name": "Python 3",
   "language": "python",
   "name": "python3"
  },
  "language_info": {
   "codemirror_mode": {
    "name": "ipython",
    "version": 3
   },
   "file_extension": ".py",
   "mimetype": "text/x-python",
   "name": "python",
   "nbconvert_exporter": "python",
   "pygments_lexer": "ipython3",
   "version": "3.5.5"
  },
  "widgets": {
   "state": {},
   "version": "1.1.2"
  }
 },
 "nbformat": 4,
 "nbformat_minor": 1
}
